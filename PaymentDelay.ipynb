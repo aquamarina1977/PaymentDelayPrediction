{
  "nbformat": 4,
  "nbformat_minor": 0,
  "metadata": {
    "colab": {
      "provenance": [],
      "authorship_tag": "ABX9TyPrCOHk3lsXiGu4/XqQFFR3",
      "include_colab_link": true
    },
    "kernelspec": {
      "name": "python3",
      "display_name": "Python 3"
    },
    "language_info": {
      "name": "python"
    }
  },
  "cells": [
    {
      "cell_type": "markdown",
      "metadata": {
        "id": "view-in-github",
        "colab_type": "text"
      },
      "source": [
        "<a href=\"https://colab.research.google.com/github/aquamarina1977/PaymentDelayPrediction/blob/main/PaymentDelay.ipynb\" target=\"_parent\"><img src=\"https://colab.research.google.com/assets/colab-badge.svg\" alt=\"Open In Colab\"/></a>"
      ]
    },
    {
      "cell_type": "markdown",
      "source": [
        "Этот проект предсказывает вероятность, с какой предсказания, сделанные на основе двух моделей sklearn, относительно того, что выплаты по кредиту, взятому в банке на Тайване, будут производиться вовремя, окажутся верными. Для этого предсказания использован датасет с данными 2005 года одного из канадских банков. Датасет взят с сайта Kaggle: https://www.kaggle.com/datasets/uciml/default-of-credit-card-clients-dataset В проекте приводятся предсказания, созданные благодаря шаблону метода опорных векторов с одной стороны, и шаблону RandomForestClassifier, который, как принято считать, даёт более точные прогнозы, с другой стороны. "
      ],
      "metadata": {
        "id": "JYT51KvF7sGS"
      }
    },
    {
      "cell_type": "code",
      "source": [
        "#Импортируем библиотеки pandas и numpy\n",
        "import pandas as pd\n",
        "import numpy as np"
      ],
      "metadata": {
        "id": "n2fNnyEKK9kt"
      },
      "execution_count": 2,
      "outputs": []
    },
    {
      "cell_type": "code",
      "source": [
        "#Считываем данные\n",
        "data = pd.read_csv('/content/default of credit card clients.csv', names=['ID', 'LIMIT_BAL', 'SEX', 'EDUCATION', 'MARRIAGE', 'AGE', 'PAY_0', 'PAY_2', 'PAY_3', 'PAY_4', 'PAY_5', 'PAY_6', 'BILL_AMT1', 'BILL_AMT2', 'BILL_AMT3', 'BILL_AMT4', 'BILL_AMT5', 'BILL_AMT6', 'PAY_AMT1', 'PAY_AMT2', 'PAY_AMT3', 'PAY_AMT4', 'PAY_AMT5', 'PAY_AMT6', 'default payment next month'], skiprows=[0, 1])"
      ],
      "metadata": {
        "id": "QbSYiIA5PmUT"
      },
      "execution_count": 4,
      "outputs": []
    },
    {
      "cell_type": "code",
      "source": [
        "#Избавляемся от ненужных колонок, приводим датасет к нужному нам виду\n",
        "data.drop(['BILL_AMT1', 'BILL_AMT2', 'BILL_AMT3', 'BILL_AMT4', 'BILL_AMT5', 'BILL_AMT6'], axis=1, inplace=True)"
      ],
      "metadata": {
        "id": "Js79V-gkCCLF"
      },
      "execution_count": 5,
      "outputs": []
    },
    {
      "cell_type": "code",
      "source": [
        "data['MONEY_RET'] = data[['PAY_AMT1', 'PAY_AMT2', 'PAY_AMT3', 'PAY_AMT4', 'PAY_AMT5', 'PAY_AMT6']].sum(axis=1)"
      ],
      "metadata": {
        "id": "9Pg3MKmbDTyS"
      },
      "execution_count": 6,
      "outputs": []
    },
    {
      "cell_type": "code",
      "source": [
        "data.drop(columns=['PAY_AMT1', 'PAY_AMT2', 'PAY_AMT3', 'PAY_AMT4', 'PAY_AMT5', 'PAY_AMT6'], inplace=True)"
      ],
      "metadata": {
        "id": "RMXLLjnKDTs2"
      },
      "execution_count": 7,
      "outputs": []
    },
    {
      "cell_type": "code",
      "source": [
        "data.drop(columns=['default payment next month', 'MONEY_RET'], inplace=True)"
      ],
      "metadata": {
        "id": "IEeJLE8JHQYH"
      },
      "execution_count": 8,
      "outputs": []
    },
    {
      "cell_type": "code",
      "source": [
        "data['PAY_IN_TIME'] = data[['PAY_0', 'PAY_2', 'PAY_3', 'PAY_4', 'PAY_5', 'PAY_6']].sum(axis=1)\n",
        "data.drop(columns=['PAY_0', 'PAY_2', 'PAY_3', 'PAY_4', 'PAY_5', 'PAY_6'], inplace=True)"
      ],
      "metadata": {
        "id": "OceLmEbzJTPM"
      },
      "execution_count": 9,
      "outputs": []
    },
    {
      "cell_type": "code",
      "source": [
        "#Делаем копию этого датафрейма, чтобы на основе имеющегося датасета произвести кластеризацию, а его копию использовать для построения моделей\n",
        "data_copy = data.copy(deep=True)"
      ],
      "metadata": {
        "id": "CjKeefc_W0CH"
      },
      "execution_count": 10,
      "outputs": []
    },
    {
      "cell_type": "code",
      "source": [
        "for i, row in data_copy.iterrows():\n",
        "    for element in row:\n",
        "        if element == 'nan':\n",
        "            element = 0"
      ],
      "metadata": {
        "id": "A3hsktBoLplh"
      },
      "execution_count": 11,
      "outputs": []
    },
    {
      "cell_type": "code",
      "source": [
        "for i, row in data_copy.iterrows():\n",
        "  if row[1] > 100000:\n",
        "      row[1] = 1\n",
        "  else:\n",
        "      row[1] = 2"
      ],
      "metadata": {
        "id": "8NktP8iGQO3A"
      },
      "execution_count": 12,
      "outputs": []
    },
    {
      "cell_type": "code",
      "source": [
        "for i, row in data_copy.iterrows():\n",
        "    if row[5] < 35:\n",
        "        row[5] = 1\n",
        "    elif row[5] < 50:\n",
        "        row[5] = 2\n",
        "    else:\n",
        "        row[5] = 3\n"
      ],
      "metadata": {
        "id": "EEx52q8_QOn-"
      },
      "execution_count": 13,
      "outputs": []
    },
    {
      "cell_type": "code",
      "source": [
        "for i, row in data_copy.iterrows():\n",
        "    if row[6] > 0:\n",
        "        row[6] = 0\n",
        "    else:\n",
        "        row[6] = 1"
      ],
      "metadata": {
        "id": "lUpDPCUrTaAH"
      },
      "execution_count": 14,
      "outputs": []
    },
    {
      "cell_type": "code",
      "source": [
        "data_copy"
      ],
      "metadata": {
        "colab": {
          "base_uri": "https://localhost:8080/",
          "height": 424
        },
        "id": "1W5nMYtrT1Mt",
        "outputId": "2fb031f7-c677-42a9-bd2e-0ec346c218a2"
      },
      "execution_count": 15,
      "outputs": [
        {
          "output_type": "execute_result",
          "data": {
            "text/plain": [
              "          ID  LIMIT_BAL  SEX  EDUCATION  MARRIAGE  AGE  PAY_IN_TIME\n",
              "0          1          2    2          2         1    1            1\n",
              "1          2          1    2          2         2    1            0\n",
              "2          3          2    2          2         2    1            1\n",
              "3          4          2    2          2         1    2            1\n",
              "4          5          2    1          2         1    3            1\n",
              "...      ...        ...  ...        ...       ...  ...          ...\n",
              "29995  29996          1    1          3         1    2            1\n",
              "29996  29997          1    1          3         2    2            1\n",
              "29997  29998          2    1          2         2    2            0\n",
              "29998  29999          2    1          3         1    2            1\n",
              "29999  30000          2    1          2         1    2            1\n",
              "\n",
              "[30000 rows x 7 columns]"
            ],
            "text/html": [
              "\n",
              "  <div id=\"df-6c23fbe3-eef4-491f-a5f2-f4b44ef4ea16\">\n",
              "    <div class=\"colab-df-container\">\n",
              "      <div>\n",
              "<style scoped>\n",
              "    .dataframe tbody tr th:only-of-type {\n",
              "        vertical-align: middle;\n",
              "    }\n",
              "\n",
              "    .dataframe tbody tr th {\n",
              "        vertical-align: top;\n",
              "    }\n",
              "\n",
              "    .dataframe thead th {\n",
              "        text-align: right;\n",
              "    }\n",
              "</style>\n",
              "<table border=\"1\" class=\"dataframe\">\n",
              "  <thead>\n",
              "    <tr style=\"text-align: right;\">\n",
              "      <th></th>\n",
              "      <th>ID</th>\n",
              "      <th>LIMIT_BAL</th>\n",
              "      <th>SEX</th>\n",
              "      <th>EDUCATION</th>\n",
              "      <th>MARRIAGE</th>\n",
              "      <th>AGE</th>\n",
              "      <th>PAY_IN_TIME</th>\n",
              "    </tr>\n",
              "  </thead>\n",
              "  <tbody>\n",
              "    <tr>\n",
              "      <th>0</th>\n",
              "      <td>1</td>\n",
              "      <td>2</td>\n",
              "      <td>2</td>\n",
              "      <td>2</td>\n",
              "      <td>1</td>\n",
              "      <td>1</td>\n",
              "      <td>1</td>\n",
              "    </tr>\n",
              "    <tr>\n",
              "      <th>1</th>\n",
              "      <td>2</td>\n",
              "      <td>1</td>\n",
              "      <td>2</td>\n",
              "      <td>2</td>\n",
              "      <td>2</td>\n",
              "      <td>1</td>\n",
              "      <td>0</td>\n",
              "    </tr>\n",
              "    <tr>\n",
              "      <th>2</th>\n",
              "      <td>3</td>\n",
              "      <td>2</td>\n",
              "      <td>2</td>\n",
              "      <td>2</td>\n",
              "      <td>2</td>\n",
              "      <td>1</td>\n",
              "      <td>1</td>\n",
              "    </tr>\n",
              "    <tr>\n",
              "      <th>3</th>\n",
              "      <td>4</td>\n",
              "      <td>2</td>\n",
              "      <td>2</td>\n",
              "      <td>2</td>\n",
              "      <td>1</td>\n",
              "      <td>2</td>\n",
              "      <td>1</td>\n",
              "    </tr>\n",
              "    <tr>\n",
              "      <th>4</th>\n",
              "      <td>5</td>\n",
              "      <td>2</td>\n",
              "      <td>1</td>\n",
              "      <td>2</td>\n",
              "      <td>1</td>\n",
              "      <td>3</td>\n",
              "      <td>1</td>\n",
              "    </tr>\n",
              "    <tr>\n",
              "      <th>...</th>\n",
              "      <td>...</td>\n",
              "      <td>...</td>\n",
              "      <td>...</td>\n",
              "      <td>...</td>\n",
              "      <td>...</td>\n",
              "      <td>...</td>\n",
              "      <td>...</td>\n",
              "    </tr>\n",
              "    <tr>\n",
              "      <th>29995</th>\n",
              "      <td>29996</td>\n",
              "      <td>1</td>\n",
              "      <td>1</td>\n",
              "      <td>3</td>\n",
              "      <td>1</td>\n",
              "      <td>2</td>\n",
              "      <td>1</td>\n",
              "    </tr>\n",
              "    <tr>\n",
              "      <th>29996</th>\n",
              "      <td>29997</td>\n",
              "      <td>1</td>\n",
              "      <td>1</td>\n",
              "      <td>3</td>\n",
              "      <td>2</td>\n",
              "      <td>2</td>\n",
              "      <td>1</td>\n",
              "    </tr>\n",
              "    <tr>\n",
              "      <th>29997</th>\n",
              "      <td>29998</td>\n",
              "      <td>2</td>\n",
              "      <td>1</td>\n",
              "      <td>2</td>\n",
              "      <td>2</td>\n",
              "      <td>2</td>\n",
              "      <td>0</td>\n",
              "    </tr>\n",
              "    <tr>\n",
              "      <th>29998</th>\n",
              "      <td>29999</td>\n",
              "      <td>2</td>\n",
              "      <td>1</td>\n",
              "      <td>3</td>\n",
              "      <td>1</td>\n",
              "      <td>2</td>\n",
              "      <td>1</td>\n",
              "    </tr>\n",
              "    <tr>\n",
              "      <th>29999</th>\n",
              "      <td>30000</td>\n",
              "      <td>2</td>\n",
              "      <td>1</td>\n",
              "      <td>2</td>\n",
              "      <td>1</td>\n",
              "      <td>2</td>\n",
              "      <td>1</td>\n",
              "    </tr>\n",
              "  </tbody>\n",
              "</table>\n",
              "<p>30000 rows × 7 columns</p>\n",
              "</div>\n",
              "      <button class=\"colab-df-convert\" onclick=\"convertToInteractive('df-6c23fbe3-eef4-491f-a5f2-f4b44ef4ea16')\"\n",
              "              title=\"Convert this dataframe to an interactive table.\"\n",
              "              style=\"display:none;\">\n",
              "        \n",
              "  <svg xmlns=\"http://www.w3.org/2000/svg\" height=\"24px\"viewBox=\"0 0 24 24\"\n",
              "       width=\"24px\">\n",
              "    <path d=\"M0 0h24v24H0V0z\" fill=\"none\"/>\n",
              "    <path d=\"M18.56 5.44l.94 2.06.94-2.06 2.06-.94-2.06-.94-.94-2.06-.94 2.06-2.06.94zm-11 1L8.5 8.5l.94-2.06 2.06-.94-2.06-.94L8.5 2.5l-.94 2.06-2.06.94zm10 10l.94 2.06.94-2.06 2.06-.94-2.06-.94-.94-2.06-.94 2.06-2.06.94z\"/><path d=\"M17.41 7.96l-1.37-1.37c-.4-.4-.92-.59-1.43-.59-.52 0-1.04.2-1.43.59L10.3 9.45l-7.72 7.72c-.78.78-.78 2.05 0 2.83L4 21.41c.39.39.9.59 1.41.59.51 0 1.02-.2 1.41-.59l7.78-7.78 2.81-2.81c.8-.78.8-2.07 0-2.86zM5.41 20L4 18.59l7.72-7.72 1.47 1.35L5.41 20z\"/>\n",
              "  </svg>\n",
              "      </button>\n",
              "      \n",
              "  <style>\n",
              "    .colab-df-container {\n",
              "      display:flex;\n",
              "      flex-wrap:wrap;\n",
              "      gap: 12px;\n",
              "    }\n",
              "\n",
              "    .colab-df-convert {\n",
              "      background-color: #E8F0FE;\n",
              "      border: none;\n",
              "      border-radius: 50%;\n",
              "      cursor: pointer;\n",
              "      display: none;\n",
              "      fill: #1967D2;\n",
              "      height: 32px;\n",
              "      padding: 0 0 0 0;\n",
              "      width: 32px;\n",
              "    }\n",
              "\n",
              "    .colab-df-convert:hover {\n",
              "      background-color: #E2EBFA;\n",
              "      box-shadow: 0px 1px 2px rgba(60, 64, 67, 0.3), 0px 1px 3px 1px rgba(60, 64, 67, 0.15);\n",
              "      fill: #174EA6;\n",
              "    }\n",
              "\n",
              "    [theme=dark] .colab-df-convert {\n",
              "      background-color: #3B4455;\n",
              "      fill: #D2E3FC;\n",
              "    }\n",
              "\n",
              "    [theme=dark] .colab-df-convert:hover {\n",
              "      background-color: #434B5C;\n",
              "      box-shadow: 0px 1px 3px 1px rgba(0, 0, 0, 0.15);\n",
              "      filter: drop-shadow(0px 1px 2px rgba(0, 0, 0, 0.3));\n",
              "      fill: #FFFFFF;\n",
              "    }\n",
              "  </style>\n",
              "\n",
              "      <script>\n",
              "        const buttonEl =\n",
              "          document.querySelector('#df-6c23fbe3-eef4-491f-a5f2-f4b44ef4ea16 button.colab-df-convert');\n",
              "        buttonEl.style.display =\n",
              "          google.colab.kernel.accessAllowed ? 'block' : 'none';\n",
              "\n",
              "        async function convertToInteractive(key) {\n",
              "          const element = document.querySelector('#df-6c23fbe3-eef4-491f-a5f2-f4b44ef4ea16');\n",
              "          const dataTable =\n",
              "            await google.colab.kernel.invokeFunction('convertToInteractive',\n",
              "                                                     [key], {});\n",
              "          if (!dataTable) return;\n",
              "\n",
              "          const docLinkHtml = 'Like what you see? Visit the ' +\n",
              "            '<a target=\"_blank\" href=https://colab.research.google.com/notebooks/data_table.ipynb>data table notebook</a>'\n",
              "            + ' to learn more about interactive tables.';\n",
              "          element.innerHTML = '';\n",
              "          dataTable['output_type'] = 'display_data';\n",
              "          await google.colab.output.renderOutput(dataTable, element);\n",
              "          const docLink = document.createElement('div');\n",
              "          docLink.innerHTML = docLinkHtml;\n",
              "          element.appendChild(docLink);\n",
              "        }\n",
              "      </script>\n",
              "    </div>\n",
              "  </div>\n",
              "  "
            ]
          },
          "metadata": {},
          "execution_count": 15
        }
      ]
    },
    {
      "cell_type": "code",
      "source": [
        "#Определяем целевую колонку\n",
        "columns_target = ['PAY_IN_TIME']"
      ],
      "metadata": {
        "id": "n_ojCXA0VfLH"
      },
      "execution_count": 16,
      "outputs": []
    },
    {
      "cell_type": "code",
      "source": [
        "#Определяем колонки, влияющие на целевую колонку\n",
        "columns_train = ['LIMIT_BAL', 'SEX', 'EDUCATION', 'MARRIAGE', 'AGE']"
      ],
      "metadata": {
        "id": "Us1zlxGjVfH5"
      },
      "execution_count": 17,
      "outputs": []
    },
    {
      "cell_type": "code",
      "source": [
        "#Создаём переменные, которые будут хранить данные, хранящиеся в этих колонках\n",
        "X = data_copy[columns_train]"
      ],
      "metadata": {
        "id": "WqQm7166VfF3"
      },
      "execution_count": 18,
      "outputs": []
    },
    {
      "cell_type": "code",
      "source": [
        "Y = data_copy[columns_target]"
      ],
      "metadata": {
        "id": "r7-ddi1gaj1p"
      },
      "execution_count": 19,
      "outputs": []
    },
    {
      "cell_type": "code",
      "source": [
        "#Разбиваем выборку на четыре модуля, импортируя для этого соответствующий метод\n",
        "from sklearn.model_selection import train_test_split"
      ],
      "metadata": {
        "id": "AmoAOgTBQwiy"
      },
      "execution_count": 20,
      "outputs": []
    },
    {
      "cell_type": "code",
      "source": [
        "X_train, X_test, Y_train, Y_test = train_test_split(X, Y, test_size=0.33,\n",
        "random_state=42)"
      ],
      "metadata": {
        "id": "rH4fmlSUQ-DN"
      },
      "execution_count": 21,
      "outputs": []
    },
    {
      "cell_type": "code",
      "source": [
        "#Импортируем шаблон метода опорных векторов и называем нашу модель predmodel\n",
        "from sklearn import svm"
      ],
      "metadata": {
        "id": "0ALxg7E7RITx"
      },
      "execution_count": 22,
      "outputs": []
    },
    {
      "cell_type": "code",
      "source": [
        "predmodel = svm.LinearSVC()"
      ],
      "metadata": {
        "id": "S7nOWYJKRIPq"
      },
      "execution_count": 46,
      "outputs": []
    },
    {
      "cell_type": "code",
      "source": [
        "predmodel.fit(X_train,Y_train)"
      ],
      "metadata": {
        "id": "rlWBq9IxRIOT",
        "colab": {
          "base_uri": "https://localhost:8080/"
        },
        "outputId": "f978aa14-52b5-4a89-b237-14c7ded783b1"
      },
      "execution_count": 47,
      "outputs": [
        {
          "output_type": "stream",
          "name": "stderr",
          "text": [
            "/usr/local/lib/python3.8/dist-packages/sklearn/utils/validation.py:993: DataConversionWarning: A column-vector y was passed when a 1d array was expected. Please change the shape of y to (n_samples, ), for example using ravel().\n",
            "  y = column_or_1d(y, warn=True)\n",
            "/usr/local/lib/python3.8/dist-packages/sklearn/svm/_base.py:1206: ConvergenceWarning: Liblinear failed to converge, increase the number of iterations.\n",
            "  warnings.warn(\n"
          ]
        },
        {
          "output_type": "execute_result",
          "data": {
            "text/plain": [
              "LinearSVC()"
            ]
          },
          "metadata": {},
          "execution_count": 47
        }
      ]
    },
    {
      "cell_type": "code",
      "source": [
        "predmodel.predict(X_test[0:30])"
      ],
      "metadata": {
        "id": "ThTodvIXRIKw",
        "colab": {
          "base_uri": "https://localhost:8080/"
        },
        "outputId": "ffcad8f2-1784-46ba-8214-7834b08f0347"
      },
      "execution_count": 48,
      "outputs": [
        {
          "output_type": "execute_result",
          "data": {
            "text/plain": [
              "array([1, 1, 1, 1, 1, 1, 1, 1, 1, 1, 1, 1, 1, 1, 1, 1, 1, 1, 1, 1, 1, 1,\n",
              "       1, 1, 1, 1, 1, 1, 1, 1])"
            ]
          },
          "metadata": {},
          "execution_count": 48
        }
      ]
    },
    {
      "cell_type": "code",
      "source": [
        "#Определяем вероятность, с которой прогноз о том, что выплаты по займу будут произвоидиться вовремя, окажется верным\n",
        "predmodel.score(X_test,Y_test)"
      ],
      "metadata": {
        "id": "dwMMTFW4RIJB",
        "colab": {
          "base_uri": "https://localhost:8080/"
        },
        "outputId": "4735b9e1-457d-4e08-974b-7b317fcceeaf"
      },
      "execution_count": 49,
      "outputs": [
        {
          "output_type": "execute_result",
          "data": {
            "text/plain": [
              "0.7614141414141414"
            ]
          },
          "metadata": {},
          "execution_count": 49
        }
      ]
    },
    {
      "cell_type": "code",
      "source": [
        "#Импортируем шаблон RandomForestClassifier и создаём соответствующую модель\n",
        "from sklearn.ensemble import RandomForestClassifier\n",
        "from sklearn.model_selection import GridSearchCV\n",
        "from sklearn.model_selection import cross_val_score\n",
        "from sklearn.linear_model import LogisticRegression"
      ],
      "metadata": {
        "id": "FvQQHG03RH2l"
      },
      "execution_count": 50,
      "outputs": []
    },
    {
      "cell_type": "code",
      "source": [
        "lr = LogisticRegression(max_iter=1000)\n",
        "rfc = RandomForestClassifier(max_depth=10, min_samples_leaf=10, min_samples_split=100)"
      ],
      "metadata": {
        "id": "jiLEoU6Jxqv8"
      },
      "execution_count": 40,
      "outputs": []
    },
    {
      "cell_type": "code",
      "source": [
        "X = X_train.drop(columns='MARRIAGE')\n",
        "y = X_train['MARRIAGE']\n",
        "X.head()"
      ],
      "metadata": {
        "colab": {
          "base_uri": "https://localhost:8080/",
          "height": 206
        },
        "id": "EEB1rUMixqsD",
        "outputId": "5e7fd857-a4ac-43e9-8ef0-dd138bc1ed6a"
      },
      "execution_count": 41,
      "outputs": [
        {
          "output_type": "execute_result",
          "data": {
            "text/plain": [
              "       LIMIT_BAL  SEX  EDUCATION  AGE\n",
              "16831          1    1          3    2\n",
              "4222           2    1          1    2\n",
              "8736           2    2          2    2\n",
              "27880          1    2          3    1\n",
              "29290          2    1          3    1"
            ],
            "text/html": [
              "\n",
              "  <div id=\"df-3fcd190b-6792-4b36-85e2-b9e11e95e727\">\n",
              "    <div class=\"colab-df-container\">\n",
              "      <div>\n",
              "<style scoped>\n",
              "    .dataframe tbody tr th:only-of-type {\n",
              "        vertical-align: middle;\n",
              "    }\n",
              "\n",
              "    .dataframe tbody tr th {\n",
              "        vertical-align: top;\n",
              "    }\n",
              "\n",
              "    .dataframe thead th {\n",
              "        text-align: right;\n",
              "    }\n",
              "</style>\n",
              "<table border=\"1\" class=\"dataframe\">\n",
              "  <thead>\n",
              "    <tr style=\"text-align: right;\">\n",
              "      <th></th>\n",
              "      <th>LIMIT_BAL</th>\n",
              "      <th>SEX</th>\n",
              "      <th>EDUCATION</th>\n",
              "      <th>AGE</th>\n",
              "    </tr>\n",
              "  </thead>\n",
              "  <tbody>\n",
              "    <tr>\n",
              "      <th>16831</th>\n",
              "      <td>1</td>\n",
              "      <td>1</td>\n",
              "      <td>3</td>\n",
              "      <td>2</td>\n",
              "    </tr>\n",
              "    <tr>\n",
              "      <th>4222</th>\n",
              "      <td>2</td>\n",
              "      <td>1</td>\n",
              "      <td>1</td>\n",
              "      <td>2</td>\n",
              "    </tr>\n",
              "    <tr>\n",
              "      <th>8736</th>\n",
              "      <td>2</td>\n",
              "      <td>2</td>\n",
              "      <td>2</td>\n",
              "      <td>2</td>\n",
              "    </tr>\n",
              "    <tr>\n",
              "      <th>27880</th>\n",
              "      <td>1</td>\n",
              "      <td>2</td>\n",
              "      <td>3</td>\n",
              "      <td>1</td>\n",
              "    </tr>\n",
              "    <tr>\n",
              "      <th>29290</th>\n",
              "      <td>2</td>\n",
              "      <td>1</td>\n",
              "      <td>3</td>\n",
              "      <td>1</td>\n",
              "    </tr>\n",
              "  </tbody>\n",
              "</table>\n",
              "</div>\n",
              "      <button class=\"colab-df-convert\" onclick=\"convertToInteractive('df-3fcd190b-6792-4b36-85e2-b9e11e95e727')\"\n",
              "              title=\"Convert this dataframe to an interactive table.\"\n",
              "              style=\"display:none;\">\n",
              "        \n",
              "  <svg xmlns=\"http://www.w3.org/2000/svg\" height=\"24px\"viewBox=\"0 0 24 24\"\n",
              "       width=\"24px\">\n",
              "    <path d=\"M0 0h24v24H0V0z\" fill=\"none\"/>\n",
              "    <path d=\"M18.56 5.44l.94 2.06.94-2.06 2.06-.94-2.06-.94-.94-2.06-.94 2.06-2.06.94zm-11 1L8.5 8.5l.94-2.06 2.06-.94-2.06-.94L8.5 2.5l-.94 2.06-2.06.94zm10 10l.94 2.06.94-2.06 2.06-.94-2.06-.94-.94-2.06-.94 2.06-2.06.94z\"/><path d=\"M17.41 7.96l-1.37-1.37c-.4-.4-.92-.59-1.43-.59-.52 0-1.04.2-1.43.59L10.3 9.45l-7.72 7.72c-.78.78-.78 2.05 0 2.83L4 21.41c.39.39.9.59 1.41.59.51 0 1.02-.2 1.41-.59l7.78-7.78 2.81-2.81c.8-.78.8-2.07 0-2.86zM5.41 20L4 18.59l7.72-7.72 1.47 1.35L5.41 20z\"/>\n",
              "  </svg>\n",
              "      </button>\n",
              "      \n",
              "  <style>\n",
              "    .colab-df-container {\n",
              "      display:flex;\n",
              "      flex-wrap:wrap;\n",
              "      gap: 12px;\n",
              "    }\n",
              "\n",
              "    .colab-df-convert {\n",
              "      background-color: #E8F0FE;\n",
              "      border: none;\n",
              "      border-radius: 50%;\n",
              "      cursor: pointer;\n",
              "      display: none;\n",
              "      fill: #1967D2;\n",
              "      height: 32px;\n",
              "      padding: 0 0 0 0;\n",
              "      width: 32px;\n",
              "    }\n",
              "\n",
              "    .colab-df-convert:hover {\n",
              "      background-color: #E2EBFA;\n",
              "      box-shadow: 0px 1px 2px rgba(60, 64, 67, 0.3), 0px 1px 3px 1px rgba(60, 64, 67, 0.15);\n",
              "      fill: #174EA6;\n",
              "    }\n",
              "\n",
              "    [theme=dark] .colab-df-convert {\n",
              "      background-color: #3B4455;\n",
              "      fill: #D2E3FC;\n",
              "    }\n",
              "\n",
              "    [theme=dark] .colab-df-convert:hover {\n",
              "      background-color: #434B5C;\n",
              "      box-shadow: 0px 1px 3px 1px rgba(0, 0, 0, 0.15);\n",
              "      filter: drop-shadow(0px 1px 2px rgba(0, 0, 0, 0.3));\n",
              "      fill: #FFFFFF;\n",
              "    }\n",
              "  </style>\n",
              "\n",
              "      <script>\n",
              "        const buttonEl =\n",
              "          document.querySelector('#df-3fcd190b-6792-4b36-85e2-b9e11e95e727 button.colab-df-convert');\n",
              "        buttonEl.style.display =\n",
              "          google.colab.kernel.accessAllowed ? 'block' : 'none';\n",
              "\n",
              "        async function convertToInteractive(key) {\n",
              "          const element = document.querySelector('#df-3fcd190b-6792-4b36-85e2-b9e11e95e727');\n",
              "          const dataTable =\n",
              "            await google.colab.kernel.invokeFunction('convertToInteractive',\n",
              "                                                     [key], {});\n",
              "          if (!dataTable) return;\n",
              "\n",
              "          const docLinkHtml = 'Like what you see? Visit the ' +\n",
              "            '<a target=\"_blank\" href=https://colab.research.google.com/notebooks/data_table.ipynb>data table notebook</a>'\n",
              "            + ' to learn more about interactive tables.';\n",
              "          element.innerHTML = '';\n",
              "          dataTable['output_type'] = 'display_data';\n",
              "          await google.colab.output.renderOutput(dataTable, element);\n",
              "          const docLink = document.createElement('div');\n",
              "          docLink.innerHTML = docLinkHtml;\n",
              "          element.appendChild(docLink);\n",
              "        }\n",
              "      </script>\n",
              "    </div>\n",
              "  </div>\n",
              "  "
            ]
          },
          "metadata": {},
          "execution_count": 41
        }
      ]
    },
    {
      "cell_type": "code",
      "source": [
        "#Определяем вероятность, с которой прогноз о том, что выплаты по займу будут произвоидиться вовремя, окажется верным\n",
        "lr.fit(X.drop(columns=['LIMIT_BAL', 'SEX', 'EDUCATION']), y)\n",
        "cv_means = cross_val_score(lr, X.drop(columns=['LIMIT_BAL', 'SEX', 'EDUCATION']), y)\n",
        "pred_true = np.mean(cv_means)\n",
        "pred_true"
      ],
      "metadata": {
        "colab": {
          "base_uri": "https://localhost:8080/"
        },
        "id": "agXK9ov8xqql",
        "outputId": "28082f07-aa9d-4a7b-86d5-0faa574021b4"
      },
      "execution_count": 52,
      "outputs": [
        {
          "output_type": "execute_result",
          "data": {
            "text/plain": [
              "0.7224378109452736"
            ]
          },
          "metadata": {},
          "execution_count": 52
        }
      ]
    },
    {
      "cell_type": "code",
      "source": [
        "#Получим метрики, описывающие данный датасет, для этого импортируем соответствующие модули\n",
        "from sklearn.cluster import KMeans\n",
        "from sklearn.cluster import AgglomerativeClustering\n",
        "kmeans = KMeans(n_clusters=3, random_state=0).fit(data)\n",
        "from sklearn.preprocessing import StandardScaler\n",
        "sc = StandardScaler()\n",
        "scaledDS = sc.fit_transform(data)\n",
        "cluster_labels = kmeans.fit_predict(scaledDS)"
      ],
      "metadata": {
        "id": "zbQDG4sEexTL"
      },
      "execution_count": 72,
      "outputs": []
    },
    {
      "cell_type": "code",
      "source": [
        "agg = AgglomerativeClustering(n_clusters=3)\n",
        "assignment_labels = agg.fit_predict(scaledDS)"
      ],
      "metadata": {
        "id": "0QrkHZeff2P0"
      },
      "execution_count": 73,
      "outputs": []
    },
    {
      "cell_type": "code",
      "source": [
        "#Импортируем модуль для получения метрик sklearn\n",
        "import sklearn.metrics.cluster as metrics"
      ],
      "metadata": {
        "id": "5OKbO3lPgDq4"
      },
      "execution_count": 74,
      "outputs": []
    },
    {
      "cell_type": "code",
      "source": [
        "#Получим индекс Калински-Харабаша, индекс валидности кластера\n",
        "sc = metrics.calinski_harabasz_score(scaledDS, cluster_labels)\n",
        "sc"
      ],
      "metadata": {
        "colab": {
          "base_uri": "https://localhost:8080/"
        },
        "id": "TJDa1ACVgc9V",
        "outputId": "773f4f1f-1754-4988-963f-f4b9395fa001"
      },
      "execution_count": 75,
      "outputs": [
        {
          "output_type": "execute_result",
          "data": {
            "text/plain": [
              "5395.9157196345095"
            ]
          },
          "metadata": {},
          "execution_count": 75
        }
      ]
    },
    {
      "cell_type": "code",
      "source": [
        "#Как мы видем, индекс внутренней валидации кластера очень высок\n",
        "#Это значит, что алгоритмы кластеризации, если их использовать для данного датасета, будут весьма эффективными\n",
        "#Определим скорректированный индекс Ранда\n",
        "#В его основе лежит идея сравнения двух результатов классификации\n",
        "#Значения этого индекса находится в диапазоне от 0 до 1"
      ],
      "metadata": {
        "id": "RVtiQ7zAhmNf"
      },
      "execution_count": null,
      "outputs": []
    },
    {
      "cell_type": "code",
      "source": [
        "sc_as = metrics.adjusted_rand_score(assignment_labels, cluster_labels)\n",
        "sc_as"
      ],
      "metadata": {
        "colab": {
          "base_uri": "https://localhost:8080/"
        },
        "id": "fh0_xpX0hmJV",
        "outputId": "b148233f-54cd-4f7e-c482-944e4e8480e1"
      },
      "execution_count": 76,
      "outputs": [
        {
          "output_type": "execute_result",
          "data": {
            "text/plain": [
              "0.26661281384022656"
            ]
          },
          "metadata": {},
          "execution_count": 76
        }
      ]
    },
    {
      "cell_type": "code",
      "source": [
        "#Чем ближе значение ARI к 1.0, тем совершеннее получившиеся кластеры\n",
        "#В нашем случае маркировка кластеров не идеальна\n",
        "#Следующая далее метрика: количественная оценка эффекта кластеризации\n",
        "#Её метод является симметричным : его можно использовать для оценки соответствия двух независимых присвоений одному и тому же набору данных"
      ],
      "metadata": {
        "id": "WqeIsjgJhmHU"
      },
      "execution_count": 65,
      "outputs": []
    },
    {
      "cell_type": "code",
      "source": [
        "hom_sc = metrics.homogeneity_completeness_v_measure(cluster_labels, assignment_labels)\n",
        "hom_sc"
      ],
      "metadata": {
        "colab": {
          "base_uri": "https://localhost:8080/"
        },
        "id": "On9FDsJ2p9A_",
        "outputId": "840a8b17-d4eb-4b12-c205-d6bebcd5f07a"
      },
      "execution_count": 77,
      "outputs": [
        {
          "output_type": "execute_result",
          "data": {
            "text/plain": [
              "(0.31058928449809436, 0.31181022572119055, 0.31119855756895853)"
            ]
          },
          "metadata": {},
          "execution_count": 77
        }
      ]
    },
    {
      "cell_type": "code",
      "source": [
        "#Далее, метрика оценки однородности. Полностью однородная кластеризация - это та, \n",
        "#в которой каждый кластер содержит информацию, которая соответствует аналогичной метке класса. \n",
        "#Однородность отражает близость алгоритма кластеризации к этому (homogeneity_score) совершенству\n",
        "#Эта метрика не зависит от прямых значений меток. \n",
        "#Перестановка значений меток кластера никоим образом не изменит значение оценки.\n",
        "#Значение метрики находится в диапазоне от 0.0 до 1.0, что обозначает идеальную маркировку"
      ],
      "metadata": {
        "id": "DheEPeZJq8bK"
      },
      "execution_count": null,
      "outputs": []
    },
    {
      "cell_type": "code",
      "source": [
        "ratio = metrics.homogeneity_score(cluster_labels, assignment_labels)\n",
        "ratio"
      ],
      "metadata": {
        "colab": {
          "base_uri": "https://localhost:8080/"
        },
        "id": "MjCleY5psY8C",
        "outputId": "93857d48-06b6-45b5-f862-445da7d45f1f"
      },
      "execution_count": 78,
      "outputs": [
        {
          "output_type": "execute_result",
          "data": {
            "text/plain": [
              "0.31058928449809436"
            ]
          },
          "metadata": {},
          "execution_count": 78
        }
      ]
    },
    {
      "cell_type": "code",
      "source": [
        "#Индекс силуэта - индекс валидности кластера\n",
        "#Значение силуэта является мерой того, насколько объект похож на свой собственный кластер (сплоченность) \n",
        "#по сравнению с другими кластерами (разделение)\n",
        "#Значение силуэта находится в диапазоне от -1 до 1\n",
        "#Если значение силуэта близко к 1, образец хорошо кластеризован и уже назначен очень подходящему кластеру.\n",
        "#Если значение силуэта равно 0, выборка может быть назначена другому кластеру, ближайшему к нему, \n",
        "#и выборка находится одинаково далеко от обоих кластеров. Это означает, что он указывает на перекрывающиеся кластеры\n",
        "#Если значение силуэта близко к -1, образец классифицируется неправильно и просто помещается где-то между кластерами."
      ],
      "metadata": {
        "id": "voVDLrBnsmDw"
      },
      "execution_count": null,
      "outputs": []
    },
    {
      "cell_type": "code",
      "source": [
        "from sklearn.datasets import make_blobs\n",
        "from sklearn.cluster import KMeans\n",
        "from sklearn.metrics import silhouette_score\n",
        "\n",
        "# Generating the sample data from make_blobs\n",
        "\n",
        "X, Y = make_blobs()\n",
        "\n",
        "no_of_clusters = [2, 3, 4, 5, 6]\n",
        "\n",
        "for n_clusters in no_of_clusters:\n",
        "\n",
        "\tcluster = KMeans(n_clusters = n_clusters)\n",
        "\tcluster_labels = cluster.fit_predict(X)\n",
        "\n",
        "\t# The silhouette_score gives the\n",
        "\t# average value for all the samples.\n",
        "\tsilhouette_avg = silhouette_score(X, cluster_labels)\n",
        "\n",
        "\tprint(\"Для количества кластеров =\", n_clusters,\n",
        "\t\t\" среднее значение silhouette_score равно :\", silhouette_avg)\n"
      ],
      "metadata": {
        "colab": {
          "base_uri": "https://localhost:8080/"
        },
        "id": "uTpQLRsKt-7f",
        "outputId": "da3e77f3-dfe9-41f2-d1f8-892ea905a9e5"
      },
      "execution_count": 79,
      "outputs": [
        {
          "output_type": "stream",
          "name": "stdout",
          "text": [
            "Для количества кластеров = 2  среднее значение silhouette_score равно : 0.7345704918018575\n",
            "Для количества кластеров = 3  среднее значение silhouette_score равно : 0.8013026260919262\n",
            "Для количества кластеров = 4  среднее значение silhouette_score равно : 0.6592674115226067\n",
            "Для количества кластеров = 5  среднее значение silhouette_score равно : 0.4690339633822077\n",
            "Для количества кластеров = 6  среднее значение silhouette_score равно : 0.33808570164092816\n"
          ]
        }
      ]
    },
    {
      "cell_type": "code",
      "source": [
        "#Приведённые метрики описывают исходный датафрейм. Если мы датафрейм data заменим на датафрейм\n",
        "#data_copy, то мы увидим улучшенные метрики для анализа нашего датасета"
      ],
      "metadata": {
        "id": "QOELmVkMxKC9"
      },
      "execution_count": 81,
      "outputs": []
    }
  ]
}